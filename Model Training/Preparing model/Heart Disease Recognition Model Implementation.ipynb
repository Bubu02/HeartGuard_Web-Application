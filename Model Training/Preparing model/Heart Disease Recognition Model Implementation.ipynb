{
 "cells": [
  {
   "cell_type": "code",
   "execution_count": 1,
   "id": "e3b78624-5a5e-4927-9ad3-da9176b4e170",
   "metadata": {},
   "outputs": [],
   "source": [
    "from joblib import dump, load\n",
    "import numpy as np\n",
    "import json\n",
    "\n",
    "# Load the file paths from the JSON file\n",
    "with open(\"../Path/paths.json\") as f:\n",
    "    file_paths = json.load(f)\n",
    "\n",
    "model = load(file_paths[\"BEST_MODEL\"])"
   ]
  },
  {
   "cell_type": "code",
   "execution_count": 2,
   "id": "b544a56f-f7f7-47b2-8cbd-d4b393ead7d0",
   "metadata": {},
   "outputs": [
    {
     "data": {
      "text/plain": [
       "array([1], dtype=int64)"
      ]
     },
     "execution_count": 2,
     "metadata": {},
     "output_type": "execute_result"
    }
   ],
   "source": [
    "features = np.array([[34, 0, 1, 112, 149, 0, 1, 192, 0, 1.9, 2, 0, 2]])\n",
    "model.predict(features)"
   ]
  },
  {
   "cell_type": "code",
   "execution_count": null,
   "id": "26ee2fd1-7c58-43bb-a026-dfcaad1c605b",
   "metadata": {},
   "outputs": [],
   "source": []
  }
 ],
 "metadata": {
  "kernelspec": {
   "display_name": "Python 3 (ipykernel)",
   "language": "python",
   "name": "python3"
  },
  "language_info": {
   "codemirror_mode": {
    "name": "ipython",
    "version": 3
   },
   "file_extension": ".py",
   "mimetype": "text/x-python",
   "name": "python",
   "nbconvert_exporter": "python",
   "pygments_lexer": "ipython3",
   "version": "3.11.6"
  }
 },
 "nbformat": 4,
 "nbformat_minor": 5
}
